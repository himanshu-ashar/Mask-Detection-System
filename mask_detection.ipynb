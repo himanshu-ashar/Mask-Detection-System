{
  "nbformat": 4,
  "nbformat_minor": 0,
  "metadata": {
    "colab": {
      "name": "mask-detection.ipynb",
      "provenance": [],
      "collapsed_sections": []
    },
    "kernelspec": {
      "name": "python3",
      "display_name": "Python 3"
    },
    "accelerator": "GPU"
  },
  "cells": [
    {
      "cell_type": "code",
      "metadata": {
        "id": "0jPOHd81PQqF",
        "outputId": "efc5aaa8-b84f-4602-d15b-5205cfdc762c",
        "colab": {
          "base_uri": "https://localhost:8080/",
          "height": 122
        }
      },
      "source": [
        "from google.colab import drive\n",
        "drive.mount('/content/drive')"
      ],
      "execution_count": null,
      "outputs": [
        {
          "output_type": "stream",
          "text": [
            "Go to this URL in a browser: https://accounts.google.com/o/oauth2/auth?client_id=947318989803-6bn6qk8qdgf4n4g3pfee6491hc0brc4i.apps.googleusercontent.com&redirect_uri=urn%3aietf%3awg%3aoauth%3a2.0%3aoob&response_type=code&scope=email%20https%3a%2f%2fwww.googleapis.com%2fauth%2fdocs.test%20https%3a%2f%2fwww.googleapis.com%2fauth%2fdrive%20https%3a%2f%2fwww.googleapis.com%2fauth%2fdrive.photos.readonly%20https%3a%2f%2fwww.googleapis.com%2fauth%2fpeopleapi.readonly\n",
            "\n",
            "Enter your authorization code:\n",
            "··········\n",
            "Mounted at /content/drive\n"
          ],
          "name": "stdout"
        }
      ]
    },
    {
      "cell_type": "code",
      "metadata": {
        "id": "-CJ855aNPavM",
        "outputId": "5569cc5f-d20b-4223-97a3-f5a306e53d2c",
        "colab": {
          "base_uri": "https://localhost:8080/",
          "height": 34
        }
      },
      "source": [
        "import tensorflow as tf\n",
        "print(tf.__version__)"
      ],
      "execution_count": null,
      "outputs": [
        {
          "output_type": "stream",
          "text": [
            "2.2.0\n"
          ],
          "name": "stdout"
        }
      ]
    },
    {
      "cell_type": "code",
      "metadata": {
        "id": "WUR017z-PtS0"
      },
      "source": [
        "import numpy as np\n",
        "import matplotlib.pyplot as plt\n",
        "import os\n",
        "from tensorflow.keras.layers import Dense, Conv2D, MaxPooling2D, Dropout, Flatten, BatchNormalization\n",
        "from tensorflow.keras import callbacks\n",
        "from tensorflow.keras.models import Model, Sequential, save_model, model_from_json, load_model\n",
        "from tensorflow.keras.preprocessing.image import ImageDataGenerator"
      ],
      "execution_count": null,
      "outputs": []
    },
    {
      "cell_type": "code",
      "metadata": {
        "id": "mQOhjD0tQ3YI",
        "outputId": "9a594b37-7c8e-4a8b-c07d-95ffc730a5a6",
        "colab": {
          "base_uri": "https://localhost:8080/",
          "height": 68
        }
      },
      "source": [
        "print(\"Training set:\")\n",
        "for ges in os.listdir(\"/content/drive/My Drive/mask-detection/\"):\n",
        "    print(str(len(os.listdir(\"/content/drive/My Drive/mask-detection/\"+ges))),ges,\"images.\")"
      ],
      "execution_count": null,
      "outputs": [
        {
          "output_type": "stream",
          "text": [
            "Training set:\n",
            "690 Mask images.\n",
            "686 No Mask images.\n"
          ],
          "name": "stdout"
        }
      ]
    },
    {
      "cell_type": "code",
      "metadata": {
        "id": "nEYXuaD-S_iz"
      },
      "source": [
        "img_size = 256\n",
        "batch_size = 32"
      ],
      "execution_count": null,
      "outputs": []
    },
    {
      "cell_type": "code",
      "metadata": {
        "id": "tnCWIW8_TE_6",
        "outputId": "eb455e5f-5724-484b-9b44-7482ccaa58ef",
        "colab": {
          "base_uri": "https://localhost:8080/",
          "height": 51
        }
      },
      "source": [
        "data_gen = ImageDataGenerator(rescale=1./255,\n",
        "                                    rotation_range=0.4,\n",
        "                                    width_shift_range=0.3,\n",
        "                                    height_shift_range=0.3,\n",
        "                                    shear_range=0.2,\n",
        "                                    zoom_range=0.3,\n",
        "                                    fill_mode=\"nearest\",\n",
        "                                    validation_split=0.2,\n",
        "                                    horizontal_flip=True)\n",
        "\n",
        "train_gen = data_gen.flow_from_directory(\"/content/drive/My Drive/mask-detection/\",\n",
        "                                              target_size=(img_size,img_size),\n",
        "                                              batch_size=batch_size,\n",
        "                                              color_mode=\"rgb\",\n",
        "                                              class_mode=\"binary\",\n",
        "                                              shuffle=True,\n",
        "                                              subset='training')\n",
        "\n",
        "val_gen = data_gen.flow_from_directory(\"/content/drive/My Drive/mask-detection/\",\n",
        "                                              target_size=(img_size,img_size),\n",
        "                                              batch_size=batch_size,\n",
        "                                              color_mode=\"rgb\",\n",
        "                                              class_mode=\"binary\",\n",
        "                                              subset='validation')"
      ],
      "execution_count": null,
      "outputs": [
        {
          "output_type": "stream",
          "text": [
            "Found 1101 images belonging to 2 classes.\n",
            "Found 275 images belonging to 2 classes.\n"
          ],
          "name": "stdout"
        }
      ]
    },
    {
      "cell_type": "code",
      "metadata": {
        "id": "e3cYJNgLWkQ6"
      },
      "source": [
        "model = Sequential(\n",
        "        [\n",
        "            Conv2D(64,3,activation='relu',input_shape=(img_size,img_size,3)),\n",
        "            MaxPooling2D(pool_size=(2,2)),\n",
        "            BatchNormalization(),\n",
        "            Conv2D(128,3,activation='relu'),\n",
        "            MaxPooling2D(pool_size=(2,2)),\n",
        "            Flatten(),\n",
        "            Dropout(0.2),\n",
        "            Dense(256,activation='relu'),\n",
        "            Dense(1,activation='sigmoid'),\n",
        "        ])\n",
        "\n",
        "model.compile(optimizer='adam',loss='binary_crossentropy',metrics=['accuracy'])"
      ],
      "execution_count": null,
      "outputs": []
    },
    {
      "cell_type": "code",
      "metadata": {
        "id": "gwsEhPv2W7_3",
        "outputId": "09af7731-fb1b-411a-b0e3-9e005fa82773",
        "colab": {
          "base_uri": "https://localhost:8080/",
          "height": 459
        }
      },
      "source": [
        "model.summary()"
      ],
      "execution_count": null,
      "outputs": [
        {
          "output_type": "stream",
          "text": [
            "Model: \"sequential\"\n",
            "_________________________________________________________________\n",
            "Layer (type)                 Output Shape              Param #   \n",
            "=================================================================\n",
            "conv2d (Conv2D)              (None, 254, 254, 64)      1792      \n",
            "_________________________________________________________________\n",
            "max_pooling2d (MaxPooling2D) (None, 127, 127, 64)      0         \n",
            "_________________________________________________________________\n",
            "batch_normalization (BatchNo (None, 127, 127, 64)      256       \n",
            "_________________________________________________________________\n",
            "conv2d_1 (Conv2D)            (None, 125, 125, 128)     73856     \n",
            "_________________________________________________________________\n",
            "max_pooling2d_1 (MaxPooling2 (None, 62, 62, 128)       0         \n",
            "_________________________________________________________________\n",
            "flatten (Flatten)            (None, 492032)            0         \n",
            "_________________________________________________________________\n",
            "dropout (Dropout)            (None, 492032)            0         \n",
            "_________________________________________________________________\n",
            "dense (Dense)                (None, 256)               125960448 \n",
            "_________________________________________________________________\n",
            "dense_1 (Dense)              (None, 1)                 257       \n",
            "=================================================================\n",
            "Total params: 126,036,609\n",
            "Trainable params: 126,036,481\n",
            "Non-trainable params: 128\n",
            "_________________________________________________________________\n"
          ],
          "name": "stdout"
        }
      ]
    },
    {
      "cell_type": "code",
      "metadata": {
        "id": "QxlWFnjHXFZE",
        "outputId": "ef2b0642-1805-44df-ca5b-0d0a16983b7d",
        "colab": {
          "base_uri": "https://localhost:8080/",
          "height": 717
        }
      },
      "source": [
        "r = model.fit(train_gen, epochs=20, validation_data=val_gen)"
      ],
      "execution_count": null,
      "outputs": [
        {
          "output_type": "stream",
          "text": [
            "Epoch 1/20\n",
            "35/35 [==============================] - 661s 19s/step - loss: 14.8559 - accuracy: 0.6857 - val_loss: 0.6923 - val_accuracy: 0.7091\n",
            "Epoch 2/20\n",
            "35/35 [==============================] - 26s 749ms/step - loss: 1.8916 - accuracy: 0.7766 - val_loss: 0.6720 - val_accuracy: 0.5745\n",
            "Epoch 3/20\n",
            "35/35 [==============================] - 26s 734ms/step - loss: 0.6584 - accuracy: 0.8420 - val_loss: 0.6942 - val_accuracy: 0.4945\n",
            "Epoch 4/20\n",
            "35/35 [==============================] - 26s 744ms/step - loss: 0.3541 - accuracy: 0.8728 - val_loss: 0.6952 - val_accuracy: 0.4982\n",
            "Epoch 5/20\n",
            "35/35 [==============================] - 26s 735ms/step - loss: 0.2946 - accuracy: 0.8792 - val_loss: 0.8390 - val_accuracy: 0.4982\n",
            "Epoch 6/20\n",
            "35/35 [==============================] - 26s 752ms/step - loss: 0.2277 - accuracy: 0.9155 - val_loss: 0.7770 - val_accuracy: 0.4982\n",
            "Epoch 7/20\n",
            "35/35 [==============================] - 26s 743ms/step - loss: 0.3240 - accuracy: 0.8747 - val_loss: 1.0307 - val_accuracy: 0.4982\n",
            "Epoch 8/20\n",
            "35/35 [==============================] - 26s 739ms/step - loss: 0.2612 - accuracy: 0.9146 - val_loss: 0.9368 - val_accuracy: 0.4909\n",
            "Epoch 9/20\n",
            "35/35 [==============================] - 25s 727ms/step - loss: 0.2312 - accuracy: 0.9146 - val_loss: 0.7471 - val_accuracy: 0.4982\n",
            "Epoch 10/20\n",
            "35/35 [==============================] - 26s 742ms/step - loss: 0.2639 - accuracy: 0.9183 - val_loss: 0.7978 - val_accuracy: 0.4982\n",
            "Epoch 11/20\n",
            "35/35 [==============================] - 26s 748ms/step - loss: 0.2152 - accuracy: 0.9282 - val_loss: 0.6835 - val_accuracy: 0.5455\n",
            "Epoch 12/20\n",
            "35/35 [==============================] - 26s 732ms/step - loss: 0.1562 - accuracy: 0.9455 - val_loss: 0.8943 - val_accuracy: 0.5382\n",
            "Epoch 13/20\n",
            "35/35 [==============================] - 26s 743ms/step - loss: 0.1558 - accuracy: 0.9437 - val_loss: 1.2996 - val_accuracy: 0.5127\n",
            "Epoch 14/20\n",
            "35/35 [==============================] - 26s 737ms/step - loss: 0.1257 - accuracy: 0.9591 - val_loss: 0.3027 - val_accuracy: 0.8691\n",
            "Epoch 15/20\n",
            "35/35 [==============================] - 26s 741ms/step - loss: 0.1007 - accuracy: 0.9609 - val_loss: 1.5309 - val_accuracy: 0.5309\n",
            "Epoch 16/20\n",
            "35/35 [==============================] - 26s 738ms/step - loss: 0.2002 - accuracy: 0.9237 - val_loss: 0.2258 - val_accuracy: 0.9236\n",
            "Epoch 17/20\n",
            "35/35 [==============================] - 26s 741ms/step - loss: 0.0970 - accuracy: 0.9700 - val_loss: 0.6677 - val_accuracy: 0.7055\n",
            "Epoch 18/20\n",
            "35/35 [==============================] - 26s 739ms/step - loss: 0.0997 - accuracy: 0.9637 - val_loss: 0.0980 - val_accuracy: 0.9782\n",
            "Epoch 19/20\n",
            "35/35 [==============================] - 26s 744ms/step - loss: 0.1154 - accuracy: 0.9582 - val_loss: 0.0898 - val_accuracy: 0.9709\n",
            "Epoch 20/20\n",
            "35/35 [==============================] - 26s 740ms/step - loss: 0.1206 - accuracy: 0.9619 - val_loss: 0.1084 - val_accuracy: 0.9600\n"
          ],
          "name": "stdout"
        }
      ]
    },
    {
      "cell_type": "code",
      "metadata": {
        "id": "nDt30SRhQabn",
        "outputId": "4966ec1e-c6ff-4eef-e8ef-08946f348ff9",
        "colab": {
          "base_uri": "https://localhost:8080/",
          "height": 268
        }
      },
      "source": [
        "plt.plot(r.history['accuracy'])\n",
        "plt.plot(r.history['val_accuracy'])\n",
        "plt.show()"
      ],
      "execution_count": null,
      "outputs": [
        {
          "output_type": "display_data",
          "data": {
            "image/png": "[encoded data removed]",
            "text/plain": [
              "<Figure size 432x288 with 1 Axes>"
            ]
          },
          "metadata": {
            "tags": [],
            "needs_background": "light"
          }
        }
      ]
    },
    {
      "cell_type": "code",
      "metadata": {
        "id": "tgI4NcGcgig-",
        "outputId": "72e4c225-cc87-41af-da75-44fff8e38308",
        "colab": {
          "base_uri": "https://localhost:8080/",
          "height": 265
        }
      },
      "source": [
        "plt.plot(r.history['loss'])\n",
        "plt.plot(r.history['val_loss'])\n",
        "plt.show()"
      ],
      "execution_count": null,
      "outputs": [
        {
          "output_type": "display_data",
          "data": {
            "image/png": "[encoded data removed]",
            "text/plain": [
              "<Figure size 432x288 with 1 Axes>"
            ]
          },
          "metadata": {
            "tags": [],
            "needs_background": "light"
          }
        }
      ]
    },
    {
      "cell_type": "code",
      "metadata": {
        "id": "-zRwz0oFiD-w"
      },
      "source": [
        "model.save(\"mask_detection_model.h5\")"
      ],
      "execution_count": null,
      "outputs": []
    },
    {
      "cell_type": "code",
      "metadata": {
        "id": "9zdILDP0iOgC"
      },
      "source": [
        "rps_model_json = model.to_json()\n",
        "with open(\"mask_detection_architecture.json\", \"w\") as json_file:\n",
        "    json_file.write(rps_model_json)\n",
        "# saving the model weight separately\n",
        "model.save_weights(\"mask_detection_weights.h5\")"
      ],
      "execution_count": null,
      "outputs": []
    },
    {
      "cell_type": "markdown",
      "metadata": {
        "id": "_CtpmjZtFQ-p"
      },
      "source": [
        "New session:"
      ]
    },
    {
      "cell_type": "code",
      "metadata": {
        "id": "viVqM17xiZJn"
      },
      "source": [
        "model = load_model('/content/drive/My Drive/mask_detection_model.h5')"
      ],
      "execution_count": null,
      "outputs": []
    },
    {
      "cell_type": "code",
      "metadata": {
        "id": "K2ObNOEDGEMW",
        "outputId": "02ce6ab5-77aa-49f4-fe2d-fc0e1409dfb1",
        "colab": {
          "base_uri": "https://localhost:8080/",
          "height": 34
        }
      },
      "source": [
        "train_gen.class_indices"
      ],
      "execution_count": null,
      "outputs": [
        {
          "output_type": "execute_result",
          "data": {
            "text/plain": [
              "{'Mask': 0, 'No Mask': 1}"
            ]
          },
          "metadata": {
            "tags": []
          },
          "execution_count": 9
        }
      ]
    },
    {
      "cell_type": "code",
      "metadata": {
        "id": "ww4-g5ARFfvC"
      },
      "source": [
        "classes = train_gen.class_indices\n",
        "mapper_dict = {value: key for key,value in classes.items()}"
      ],
      "execution_count": null,
      "outputs": []
    },
    {
      "cell_type": "code",
      "metadata": {
        "id": "fRZLAt34GHV9",
        "outputId": "9b0bdddc-badc-47ea-c5ee-8f14dd8d15c8",
        "colab": {
          "base_uri": "https://localhost:8080/",
          "height": 34
        }
      },
      "source": [
        "img_nomask = tf.keras.preprocessing.image.load_img(\"/content/drive/My Drive/rps_ex_paper_1.jpg\", target_size=(img_size,img_size))\n",
        "img_nomask_array = tf.keras.preprocessing.image.img_to_array(img_nomask)\n",
        "img_nomask_array = img_nomask_array/255.0\n",
        "\n",
        "img_nomask_array = tf.expand_dims(img_nomask_array, 0)  # Create batch axis\n",
        "predictions = model.predict(img_nomask_array)\n",
        "# prediction = np.argmax(predictions)\n",
        "# class_pred = mapper_dict[prediction]\n",
        "# print(class_pred)\n",
        "score = predictions[0]\n",
        "if score>0.5:\n",
        "  print(\"No Mask: %.3f percent\"%(100*score))\n",
        "else:\n",
        "  print(\"Mask\")"
      ],
      "execution_count": null,
      "outputs": [
        {
          "output_type": "stream",
          "text": [
            "No Mask: 97.402 percent\n"
          ],
          "name": "stdout"
        }
      ]
    },
    {
      "cell_type": "code",
      "metadata": {
        "id": "miZ1iNWlGemj"
      },
      "source": [
        ""
      ],
      "execution_count": null,
      "outputs": []
    }
  ]
}